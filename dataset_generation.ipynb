{
 "cells": [
  {
   "cell_type": "markdown",
   "metadata": {},
   "source": [
    "## A code to prepare the input molecules for the PACHQA dataset\n",
    "## PubChemPCH subset"
   ]
  },
  {
   "cell_type": "code",
   "execution_count": null,
   "metadata": {},
   "outputs": [],
   "source": [
    "import requests\n",
    "from rdkit import Chem\n",
    "from rdkit.Chem import Descriptors\n",
    "from rdkit.Chem import rdchem\n",
    "import mols2grid\n",
    "from subprocess import run\n",
    "import copy\n",
    "import random\n",
    "import collections"
   ]
  },
  {
   "cell_type": "code",
   "execution_count": null,
   "metadata": {},
   "outputs": [],
   "source": [
    "mols = [x for x in Chem.SDMolSupplier('chcl.sdf', removeHs=False, sanitize=False)]\n",
    "mols2grid.display(mols)"
   ]
  },
  {
   "cell_type": "code",
   "execution_count": null,
   "metadata": {},
   "outputs": [],
   "source": [
    "mols_filtered=[]\n",
    "carbon_pattern = Chem.MolFromSmarts(\"[#6]\")\n",
    "for mol in mols:\n",
    "    if Descriptors.NumRadicalElectrons(mol) != 0:\n",
    "        continue #no radicals\n",
    "    mol.UpdatePropertyCache(False)\n",
    "    Chem.SetAromaticity(mol, Chem.AromaticityModel.AROMATICITY_SIMPLE)#only benzene rings are considered as aromatic\n",
    "    if len(list(rdchem.Mol.GetAromaticAtoms(mol))) != len(mol.GetSubstructMatches(carbon_pattern)):\n",
    "        continue #molecules must have only aromatic carbons\n",
    "    if Descriptors.RingCount(mol) > 6:\n",
    "        continue #6 cycles or less\n",
    "    ringLen = [len(ring) for ring in Chem.GetSSSR(mol)]\n",
    "    if max(ringLen) > 6:\n",
    "        continue #no flexible macrocycles\n",
    "    if 'TRIPLE' in [str(bond.GetBondType()) for bond in mol.GetBonds()]:\n",
    "        continue #no triple bonds\n",
    "    mols_filtered.append(mol)"
   ]
  },
  {
   "cell_type": "code",
   "execution_count": null,
   "metadata": {},
   "outputs": [],
   "source": [
    "mols2grid.display(mols_filtered)"
   ]
  },
  {
   "cell_type": "code",
   "execution_count": null,
   "metadata": {},
   "outputs": [],
   "source": [
    "ids_to_remove = [24, 252, 284]#some unstable bridged molecules are removed by hand\n",
    "mols_handfiltered_PCH = [mol for mol in mols_filtered if not mols_filtered.index(mol) in ids_to_remove]"
   ]
  },
  {
   "cell_type": "code",
   "execution_count": null,
   "metadata": {},
   "outputs": [],
   "source": [
    "mols2grid.display(mols_handfiltered_PCH)"
   ]
  },
  {
   "cell_type": "code",
   "execution_count": null,
   "metadata": {},
   "outputs": [],
   "source": [
    "smiles_list=[]\n",
    "for mol in mols_handfiltered_PCH:\n",
    "    smiles_list.append(Chem.MolToSmiles(mol))\n",
    "print([item for item, count in collections.Counter(smiles_list).items() if count > 1])#checking for duplicate SMILES"
   ]
  },
  {
   "cell_type": "code",
   "execution_count": null,
   "metadata": {},
   "outputs": [],
   "source": [
    "run(['mkdir', f'pubchemPCH'])\n",
    "for mol in mols_handfiltered_PCH:\n",
    "    ikey = Chem.MolToInchiKey(mol)\n",
    "    run(['mkdir', f'pubchemPCH/{ikey}'])\n",
    "    writer = Chem.SDWriter(f'pubchemPCH/{ikey}/pubchem_conf.sdf')\n",
    "    writer.write(mol)"
   ]
  },
  {
   "cell_type": "markdown",
   "metadata": {},
   "source": [
    "## PubChemPAH subset"
   ]
  },
  {
   "cell_type": "code",
   "execution_count": null,
   "metadata": {},
   "outputs": [],
   "source": [
    "mols = [x for x in Chem.SDMolSupplier('ArCH.sdf', removeHs=False, sanitize=False)]"
   ]
  },
  {
   "cell_type": "code",
   "execution_count": null,
   "metadata": {},
   "outputs": [],
   "source": [
    "mols_filtered=[]\n",
    "carbon_pattern = Chem.MolFromSmarts(\"[#6]\")\n",
    "for mol in mols:\n",
    "    if Descriptors.NumRadicalElectrons(mol) != 0:\n",
    "        continue #no radicals\n",
    "    mol.UpdatePropertyCache(False)\n",
    "    Chem.SetAromaticity(mol, Chem.AromaticityModel.AROMATICITY_SIMPLE)#only benzene rings are considered as aromatic\n",
    "    if len(list(rdchem.Mol.GetAromaticAtoms(mol))) != len(mol.GetSubstructMatches(carbon_pattern)):\n",
    "        continue #molecules must have only aromatic carbons\n",
    "    if Descriptors.RingCount(mol) > 6:\n",
    "        continue #6 cycles or less\n",
    "    ringLen = [len(ring) for ring in Chem.GetSSSR(mol)]\n",
    "    if max(ringLen) > 6:\n",
    "        continue #no flexible macrocycles\n",
    "    if 'TRIPLE' in [str(bond.GetBondType()) for bond in mol.GetBonds()]:\n",
    "        continue #no triple bonds\n",
    "    if len(mol.GetSubstructMatches(Chem.MolFromSmarts('c1cc2ccc1cc2'))):\n",
    "        continue #no unstable bridged fragment\n",
    "    if len(mol.GetSubstructMatches(Chem.MolFromSmarts('c1c2cccc(cc1)c2'))):\n",
    "        continue #no unstable bridged fragment\n",
    "    mols_filtered.append(mol)"
   ]
  },
  {
   "cell_type": "code",
   "execution_count": null,
   "metadata": {},
   "outputs": [],
   "source": [
    "mols2grid.display(mols_filtered)"
   ]
  },
  {
   "cell_type": "code",
   "execution_count": null,
   "metadata": {},
   "outputs": [],
   "source": [
    "ids_to_remove = [2, 5, 6, 9, 12, 13, 16, 17, 18, 19, 22, 23, 8, 11]#more unstable molecules are removed by hand\n",
    "mols_handfiltered_PAH = [mol for mol in mols_filtered if not mols_filtered.index(mol) in ids_to_remove]"
   ]
  },
  {
   "cell_type": "code",
   "execution_count": null,
   "metadata": {},
   "outputs": [],
   "source": [
    "mols2grid.display(mols_handfiltered_PAH)"
   ]
  },
  {
   "cell_type": "code",
   "execution_count": null,
   "metadata": {},
   "outputs": [],
   "source": [
    "run(['mkdir', f'pubchemPAH'])\n",
    "for mol in mols_handfiltered_PAH:\n",
    "    ikey = Chem.MolToInchiKey(mol)\n",
    "    run(['mkdir', f'pubchemPAH/{ikey}'])\n",
    "    writer = Chem.SDWriter(f'pubchemPAH/{ikey}/pubchem_conf.sdf')\n",
    "    writer.write(mol)"
   ]
  },
  {
   "cell_type": "markdown",
   "metadata": {},
   "source": [
    "## monoCl subset"
   ]
  },
  {
   "cell_type": "code",
   "execution_count": null,
   "metadata": {},
   "outputs": [],
   "source": [
    "keylist=[]\n",
    "for mol in mols_handfiltered_PCH:\n",
    "    keylist.append(Chem.MolToInchiKey(mol))\n",
    "run(['mkdir', f'monoCl'])\n",
    "mols_chlorinated = copy.deepcopy(mols_handfiltered_PAH)\n",
    "for mol in mols_chlorinated:\n",
    "    for atom in mol.GetAtoms():        \n",
    "        if atom.GetAtomicNum() == 1:\n",
    "            atom.SetAtomicNum(17)          \n",
    "            ikey = Chem.MolToInchiKey(mol)\n",
    "            if not ikey in keylist: #check if not already added or present in PubChemPCH\n",
    "                keylist.append(ikey)\n",
    "                run(['mkdir', f'monoCl/{ikey}'])\n",
    "                writer = Chem.SDWriter(f'monoCl/{ikey}/pubchem_conf.sdf')\n",
    "                writer.SetProps([''])\n",
    "                writer.write(mol)\n",
    "            atom.SetAtomicNum(1)"
   ]
  },
  {
   "cell_type": "markdown",
   "metadata": {},
   "source": [
    "## perCl subset"
   ]
  },
  {
   "cell_type": "code",
   "execution_count": null,
   "metadata": {},
   "outputs": [],
   "source": [
    "keylist=[]\n",
    "for mol in mols_handfiltered_PCH:\n",
    "    keylist.append(Chem.MolToInchiKey(mol))\n",
    "run(['mkdir', f'perCl'])\n",
    "mols_perchlorinated = copy.deepcopy(mols_handfiltered_PAH)\n",
    "for mol in mols_perchlorinated:\n",
    "    for atom in mol.GetAtoms():\n",
    "        if atom.GetAtomicNum() == 1:\n",
    "            atom.SetAtomicNum(17)\n",
    "    ikey = Chem.MolToInchiKey(mol)\n",
    "    if not ikey in keylist:\n",
    "        run(['mkdir', f'perCl/{ikey}'])\n",
    "        writer = Chem.SDWriter(f'perCl/{ikey}/pubchem_conf.sdf')\n",
    "        writer.SetProps([''])\n",
    "        writer.write(mol)"
   ]
  },
  {
   "cell_type": "markdown",
   "metadata": {},
   "source": [
    "## polyCl subset (random isomers)"
   ]
  },
  {
   "cell_type": "code",
   "execution_count": null,
   "metadata": {},
   "outputs": [],
   "source": [
    "excluded=[]\n",
    "keylist=[]\n",
    "for mol in mols_handfiltered_PCH:\n",
    "    keylist.append(Chem.MolToInchiKey(mol))\n",
    "run(['mkdir', f'polyCl'])\n",
    "mols_polychlorinated = copy.deepcopy(mols_handfiltered_PAH)\n",
    "from rdkit.Chem import rdqueries\n",
    "for mol in mols_polychlorinated:\n",
    "    atoms=[atom for atom in mol.GetAtomsMatchingQuery(Chem.rdqueries.MassLessQueryAtom(2))]\n",
    "    for i in range(2,len(atoms)):\n",
    "        c=0\n",
    "        temp_keylist=[]\n",
    "        temp_mollist=[]\n",
    "        while True:\n",
    "            c+=1\n",
    "            chlorines=random.sample(atoms, i) #1 random isomer with i chlorine atoms\n",
    "            for atom in chlorines:\n",
    "                atom.SetAtomicNum(17)\n",
    "            ikey = Chem.MolToInchiKey(mol)\n",
    "            if ikey not in temp_keylist:\n",
    "                temp_keylist.append(ikey)\n",
    "                temp_mollist.append(copy.deepcopy(mol))\n",
    "            if ikey not in keylist:\n",
    "                keylist.append(ikey)\n",
    "                run(['mkdir', f'polyCl/{ikey}'])\n",
    "                writer = Chem.SDWriter(f'polyCl/{ikey}/pubchem_conf.sdf')\n",
    "                writer.SetProps([''])\n",
    "                writer.write(mol)\n",
    "                for atom in chlorines:\n",
    "                    atom.SetAtomicNum(1)\n",
    "                break\n",
    "            for atom in chlorines:\n",
    "                atom.SetAtomicNum(1)\n",
    "            if c>1000: #try 1000 times, if all generated isomers were found in PubChemPCH, give up and add them to the special list\n",
    "                excluded.extend(temp_mollist)\n",
    "                break"
   ]
  },
  {
   "cell_type": "code",
   "execution_count": null,
   "metadata": {},
   "outputs": [],
   "source": [
    "mols2grid.display(excluded) #check the list of molecules to ensure that all the possible isomers with a given number of chlorines were found in PubChemPCH"
   ]
  }
 ],
 "metadata": {
  "anaconda-cloud": {},
  "hide_input": false,
  "kernelspec": {
   "display_name": "Python 3 (ipykernel)",
   "language": "python",
   "name": "python3"
  },
  "language_info": {
   "codemirror_mode": {
    "name": "ipython",
    "version": 3
   },
   "file_extension": ".py",
   "mimetype": "text/x-python",
   "name": "python",
   "nbconvert_exporter": "python",
   "pygments_lexer": "ipython3",
   "version": "3.8.10"
  }
 },
 "nbformat": 4,
 "nbformat_minor": 4
}
