{
 "cells": [
  {
   "cell_type": "code",
   "execution_count": null,
   "id": "867d4f75-097e-49cc-86be-7fc48997cb9d",
   "metadata": {},
   "outputs": [],
   "source": [
    "import os\n",
    "import shutil\n",
    "from pathlib import Path\n",
    "\n",
    "import pandas as pd\n",
    "\n",
    "from validation_utils import (\n",
    "    get_inchikey_from_smiles,\n",
    "    get_pachqa_structures,\n",
    "    get_rmsd_between_two_molecules,\n",
    ")"
   ]
  },
  {
   "cell_type": "code",
   "execution_count": null,
   "id": "7b1945cc-885c-4ead-b975-1b959210189b",
   "metadata": {},
   "outputs": [],
   "source": [
    "# path to folder with `summary.csv` and `structures` from https://libdrive.ethz.ch/index.php/s/X5vOBNSITAG5vzM\n",
    "QMUGS_SOURCE_FOLDER = Path(\"qmugs\").absolute()\n",
    "\n",
    "# path to folder with props.csv\n",
    "PACHQA_SOURCE_FOLDER = Path(\"../property_parsing/\").absolute()\n",
    "\n",
    "# path to PACHQA structures\n",
    "PACHQA_STRUCTURES_SOURCE_FOLDER = Path(\"data\").absolute()\n",
    "\n",
    "# output files will be writen here\n",
    "TMP_DIR = Path(\"tmp_qmugs/\").absolute()"
   ]
  },
  {
   "cell_type": "code",
   "execution_count": null,
   "id": "09d4c04e-2e4f-4e36-bd13-959ede8ea1cd",
   "metadata": {},
   "outputs": [],
   "source": [
    "if not TMP_DIR.exists():\n",
    "    os.makedirs(TMP_DIR)"
   ]
  },
  {
   "cell_type": "markdown",
   "id": "382ac625-9659-4dc0-9b40-9181043d63d3",
   "metadata": {},
   "source": [
    "## Reading PACHQA data"
   ]
  },
  {
   "cell_type": "code",
   "execution_count": null,
   "id": "cb3b8ba2-c2c2-47a2-98ba-87aad6d736d7",
   "metadata": {},
   "outputs": [],
   "source": [
    "pachqa_data = pd.read_csv(Path(PACHQA_SOURCE_FOLDER, \"props.csv\"))\n",
    "pachqa_data = pachqa_data[pachqa_data.level == \"xtb2\"]\n",
    "pachqa_inchikeys = set(pachqa_data.key)"
   ]
  },
  {
   "cell_type": "markdown",
   "id": "21d5a44f-1a41-4802-b7e1-2603db0a3b2e",
   "metadata": {},
   "source": [
    "## Reading QMUGS data and merging molecules by InChIKey"
   ]
  },
  {
   "cell_type": "code",
   "execution_count": null,
   "id": "0650dc52-de61-4277-89cc-55bc48ce2a44",
   "metadata": {},
   "outputs": [],
   "source": [
    "PUBLIC_NAMES = {\n",
    "    \"summary.csv\": \"QMUGS\",\n",
    "}\n",
    "\n",
    "EXTRACTABLE_COLUMNS = [\n",
    "    \"DFT_DIPOLE_TOT\",\n",
    "    \"DFT_HOMO_ENERGY\",\n",
    "    \"DFT_HOMO_LUMO_GAP\",\n",
    "    \"DFT_LUMO_ENERGY\",\n",
    "    \"DFT_TOTAL_ENERGY\",\n",
    "    \"GFN2_DIPOLE_TOT\",\n",
    "    \"GFN2_ENTROPY_TOT\",\n",
    "    \"GFN2_FORMATION_ENERGY\",\n",
    "    \"GFN2_HOMO_ENERGY\",\n",
    "    \"GFN2_HOMO_LUMO_GAP\",\n",
    "    \"GFN2_LUMO_ENERGY\",\n",
    "    \"GFN2_POLARIZABILITY_MOLECULAR\",\n",
    "    \"GFN2_TOTAL_ENERGY\",\n",
    "    \"GFN2_TOTAL_ENTHALPY\",\n",
    "    \"GFN2_TOTAL_FREE_ENERGY\",\n",
    "    \"smiles\",\n",
    "    \"conf_id\",\n",
    "    \"chembl_id\",\n",
    "]"
   ]
  },
  {
   "cell_type": "code",
   "execution_count": null,
   "id": "5192be2b-8c37-4181-9fd9-e537126fe713",
   "metadata": {},
   "outputs": [],
   "source": [
    "for filepath in QMUGS_SOURCE_FOLDER.glob(\"*.csv\"):\n",
    "    if filepath.name not in PUBLIC_NAMES:\n",
    "        continue\n",
    "    print(f\"Starting to merge {filepath.name} with PACHQA results\")\n",
    "    qmugs_data = pd.read_csv(filepath)\n",
    "    qmugs_data = qmugs_data[qmugs_data.conf_id == \"conf_02\"]\n",
    "    for column in qmugs_data.columns:\n",
    "        if column not in EXTRACTABLE_COLUMNS:\n",
    "            qmugs_data.drop(columns=column, inplace=True)\n",
    "    qmugs_data[\"key\"] = qmugs_data.smiles.map(get_inchikey_from_smiles)\n",
    "    matched_data = pd.merge(\n",
    "        pachqa_data, qmugs_data, on=\"key\", suffixes=(\"_pachqa\", \"_qmugs\")\n",
    "    )\n",
    "    print(\n",
    "        f\"There are {matched_data.shape[0]} rows with matching InChIKey and {len(set(matched_data.key))} unique InChIKeys\"\n",
    "    )\n",
    "    matched_data.to_csv(Path(TMP_DIR, filepath.name + \"_matched.csv\"), index=False)"
   ]
  },
  {
   "cell_type": "markdown",
   "id": "b47fbe66-6e74-475a-b8bd-ebadfec12c4a",
   "metadata": {},
   "source": [
    "## Calculating heavy atom RMSD for the molecules from two datasets"
   ]
  },
  {
   "cell_type": "markdown",
   "id": "088ffbfb-94d1-4d96-85e6-58ea5e62bd97",
   "metadata": {},
   "source": [
    "### Preparing geometry data"
   ]
  },
  {
   "cell_type": "code",
   "execution_count": null,
   "id": "883a6829-5bc0-4bee-a5a8-9492ad446941",
   "metadata": {
    "scrolled": true
   },
   "outputs": [],
   "source": [
    "KEY_STRUCTURE_COLUMN_MAPPED = {\n",
    "    \"summary.csv\": \"chembl_id\",\n",
    "}\n",
    "\n",
    "KEY_UNPACK_FORMAT_MAPPED = {\n",
    "    \"summary.csv\": \"folder\",\n",
    "}\n",
    "\n",
    "SUPPORTED_TYPES = (\n",
    "    \"xyz\",\n",
    "    \"sdf\",\n",
    ")\n",
    "\n",
    "for filepath in QMUGS_SOURCE_FOLDER.glob(\"*.csv\"):\n",
    "    if filepath.name not in PUBLIC_NAMES:\n",
    "        continue\n",
    "    matched_data = pd.read_csv(Path(TMP_DIR, filepath.name + \"_matched.csv\"))\n",
    "    name = KEY_STRUCTURE_COLUMN_MAPPED[filepath.name]\n",
    "    base_path = filepath.parent\n",
    "    structures_path = Path(base_path, filepath.name + \"_structures\")\n",
    "    assert name in matched_data.columns\n",
    "\n",
    "    extract_dest = Path(TMP_DIR, filepath.name + \"_structures\")\n",
    "    if any(matched_data[name]) and not extract_dest.exists():\n",
    "        extract_dest.mkdir()\n",
    "\n",
    "    unpack_format = KEY_UNPACK_FORMAT_MAPPED[filepath.name]\n",
    "    if unpack_format == \"folder\":\n",
    "        for structure_name, structure_conf_id, structure_inchikey in matched_data[\n",
    "            [name, \"conf_id\", \"key\"]\n",
    "        ].values:\n",
    "            for structure_type in SUPPORTED_TYPES:\n",
    "                structure_path = Path(\n",
    "                    structures_path,\n",
    "                    structure_name,\n",
    "                    structure_conf_id + \".\" + structure_type,\n",
    "                )\n",
    "                if structure_path.exists():\n",
    "                    shutil.copyfile(\n",
    "                        structure_path,\n",
    "                        Path(\n",
    "                            extract_dest,\n",
    "                            structure_inchikey\n",
    "                            + \"_\"\n",
    "                            + structure_conf_id\n",
    "                            + \".\"\n",
    "                            + structure_type,\n",
    "                        ),\n",
    "                    )\n",
    "                    break\n",
    "            else:\n",
    "                exception = Exception(\"Cannot find structure.\")\n",
    "                exception.add_note(f\"Dataset path: {filepath}\")\n",
    "                exception.add_note(f\"Structure name: {structure_name}\")\n",
    "                raise exception\n",
    "    else:\n",
    "        raise ValueError(\"No such unpack format\")"
   ]
  },
  {
   "cell_type": "markdown",
   "id": "9110559b-39dd-4bb3-96ad-5f9b2615c39e",
   "metadata": {},
   "source": [
    "### Calculating RMSD"
   ]
  },
  {
   "cell_type": "code",
   "execution_count": null,
   "id": "01c1c2c3-e173-44a4-8190-4147935e702e",
   "metadata": {},
   "outputs": [],
   "source": [
    "INCHIKEY_STRUCTURES_MAPPED = get_pachqa_structures(PACHQA_STRUCTURES_SOURCE_FOLDER)\n",
    "SUPPORTED_TYPES = (\n",
    "    \"xyz\",\n",
    "    \"sdf\",\n",
    ")\n",
    "\n",
    "for filepath in TMP_DIR.glob(\"*_matched.csv\"):\n",
    "    matched_data = pd.read_csv(filepath)\n",
    "    if filepath.name.count(\"_matched.csv\") > 1:\n",
    "        raise Exception(\n",
    "            \"Something wrong. There is more than one `_matched.csv`.\"\n",
    "        )\n",
    "    qmugs_structures_path = Path(\n",
    "        filepath.parent, filepath.name.replace(\"_matched.csv\", \"\") + \"_structures\"\n",
    "    )\n",
    "    dump_pairs_path = Path(\n",
    "        filepath.parent, filepath.name.replace(\"_matched.csv\", \"\") + \"_pairs\"\n",
    "    )\n",
    "\n",
    "    if not dump_pairs_path.exists():\n",
    "        dump_pairs_path.mkdir()\n",
    "\n",
    "    rmsd_xtb2 = []\n",
    "    rmsd_r2scan = []\n",
    "    rmsd_mmff94 = []\n",
    "\n",
    "    for inchikey, structure_conf_id in matched_data[[\"key\", \"conf_id\"]].values:\n",
    "        pachqa_structures_path = INCHIKEY_STRUCTURES_MAPPED[inchikey]\n",
    "        for qmugs_structure_type in SUPPORTED_TYPES:\n",
    "            qmugs_structure_path = Path(\n",
    "                qmugs_structures_path,\n",
    "                inchikey + \"_\" + structure_conf_id + \".\" + qmugs_structure_type,\n",
    "            )\n",
    "            if qmugs_structure_path.exists():\n",
    "                break\n",
    "        else:\n",
    "            raise Exception(\n",
    "                f\"There are no structures for InChIKey {inchikey} and conf_id {structure_conf_id} in {filepath.name}\"\n",
    "            )\n",
    "\n",
    "        pachqa_mol_path_sdf_ref = Path(pachqa_structures_path, \"pubchem_conf.sdf\")\n",
    "\n",
    "        pachqa_mol_path_xyz_xtb2 = Path(pachqa_structures_path, \"xtb2.xtbopt.xyz\")\n",
    "        rmsd_xtb2.append(\n",
    "            get_rmsd_between_two_molecules(\n",
    "                file1=pachqa_mol_path_xyz_xtb2,\n",
    "                file2=qmugs_structure_path,\n",
    "                ref=pachqa_mol_path_sdf_ref,\n",
    "                dump=True,\n",
    "                dump_name=Path(\n",
    "                    dump_pairs_path, \"xtb2_\" + inchikey + \"_\" + structure_conf_id\n",
    "                ),\n",
    "            )\n",
    "        )\n",
    "\n",
    "    matched_data[\"rmsd_xtb2\"] = rmsd_xtb2\n",
    "    matched_data.to_csv(Path(filepath.parent, filepath.name + \"_rmsd.csv\"), index=False)"
   ]
  }
 ],
 "metadata": {
  "kernelspec": {
   "display_name": ".venv",
   "language": "python",
   "name": "python3"
  },
  "language_info": {
   "codemirror_mode": {
    "name": "ipython",
    "version": 3
   },
   "file_extension": ".py",
   "mimetype": "text/x-python",
   "name": "python",
   "nbconvert_exporter": "python",
   "pygments_lexer": "ipython3",
   "version": "3.12.3"
  }
 },
 "nbformat": 4,
 "nbformat_minor": 5
}
