{
 "cells": [
  {
   "cell_type": "code",
   "execution_count": null,
   "metadata": {},
   "outputs": [],
   "source": [
    "from validation_utils import get_rmsd_between_two_molecules, read_mol\n",
    "from pathlib import Path\n",
    "from tqdm import tqdm\n",
    "import numpy as np\n",
    "from matplotlib import pyplot as plt\n",
    "from rdkit.Chem.Descriptors3D import PBF\n",
    "from rdkit import Chem\n",
    "\n",
    "PACHQA_PATH = Path(\"./data\")\n",
    "structures = list(PACHQA_PATH.glob(\"**/pubchem_conf.sdf\"))"
   ]
  },
  {
   "cell_type": "markdown",
   "metadata": {},
   "source": [
    "### Calculating RMSD and PBF scores"
   ]
  },
  {
   "cell_type": "code",
   "execution_count": null,
   "metadata": {},
   "outputs": [],
   "source": [
    "rmsds_mmff94_xtb2 = []\n",
    "rmsds_xtb2_r2scan = []\n",
    "pbf_mmff94 = []\n",
    "pbf_xtb2 = []\n",
    "pbf_r2scan = []\n",
    "for compare in tqdm(structures):\n",
    "    ref = compare\n",
    "    mmff94 = compare.parent / \"mmff94.xyz\"\n",
    "    r2scan = compare.parent / \"r2scan.xyz\"\n",
    "    xtb2 = compare.parent / \"xtb2.xtbopt.xyz\"\n",
    "    rmsds_mmff94_xtb2.append(get_rmsd_between_two_molecules(\n",
    "        mmff94,\n",
    "        xtb2,\n",
    "        ref,\n",
    "        mirror_molecule=False,\n",
    "    ))\n",
    "    rmsds_xtb2_r2scan.append(get_rmsd_between_two_molecules(\n",
    "        xtb2,\n",
    "        r2scan,\n",
    "        ref,\n",
    "        mirror_molecule=False,\n",
    "    ))\n",
    "    mol_mmff94 = read_mol(mmff94, ref)\n",
    "    mol_mmff94 = Chem.RemoveAllHs(mol_mmff94, sanitize=False)\n",
    "    mol_xtb2 = read_mol(xtb2, ref)\n",
    "    mol_xtb2 = Chem.RemoveAllHs(mol_xtb2, sanitize=False)\n",
    "    mol_r2scan = read_mol(r2scan, ref)\n",
    "    mol_r2scan = Chem.RemoveAllHs(mol_r2scan, sanitize=False)\n",
    "    pbf_mmff94.append(PBF(mol_mmff94))\n",
    "    pbf_xtb2.append(PBF(mol_xtb2))\n",
    "    pbf_r2scan.append(PBF(mol_r2scan))\n",
    "    "
   ]
  },
  {
   "cell_type": "markdown",
   "metadata": {},
   "source": [
    "### Plotting the distribution of the symmetry-corrected heavy atom RMSD values between the structures after different steps of geometry optimization"
   ]
  },
  {
   "cell_type": "code",
   "execution_count": null,
   "metadata": {},
   "outputs": [],
   "source": [
    "plt.figure(figsize=(10, 5))\n",
    "plt.hist(rmsds_mmff94_xtb2, bins=np.arange(min(rmsds_xtb2_r2scan), 1.2, 0.01))\n",
    "plt.savefig(\"mmff94_xtb2.png\")\n",
    "plt.figure(figsize=(10, 5))\n",
    "plt.hist(rmsds_xtb2_r2scan, bins=np.arange(min(rmsds_xtb2_r2scan), 1.2, 0.01))\n",
    "plt.savefig(\"xtb2_r2scan.png\")"
   ]
  },
  {
   "cell_type": "markdown",
   "metadata": {},
   "source": [
    "### Plotting the distribution of the plane of best fit (PBF) scores after different steps of geometry optimization"
   ]
  },
  {
   "cell_type": "code",
   "execution_count": null,
   "metadata": {},
   "outputs": [],
   "source": [
    "plt.figure(figsize=(5, 4))\n",
    "plt.hist(pbf_mmff94, bins=np.arange(0, 1.75, 0.1))\n",
    "plt.savefig(\"pbf_mmff94.png\")\n",
    "plt.figure(figsize=(5, 4))\n",
    "plt.hist(pbf_xtb2, bins=np.arange(0, 1.75, 0.1))\n",
    "plt.savefig(\"pbf_xtb2.png\")\n",
    "plt.figure(figsize=(5, 4))\n",
    "plt.hist(pbf_r2scan, bins=np.arange(0, 1.75, 0.1))\n",
    "plt.savefig(\"pbf_r2scan.png\")"
   ]
  },
  {
   "cell_type": "markdown",
   "metadata": {},
   "source": [
    "### The distribution of PBF scores in subsets after r2SCAN-3c geometry optimization"
   ]
  },
  {
   "cell_type": "code",
   "execution_count": null,
   "metadata": {},
   "outputs": [],
   "source": [
    "pbf_r2scan_by_subset = {}\n",
    "\n",
    "for compare in tqdm(structures):\n",
    "    subset = compare.parent.parent\n",
    "    ref = compare\n",
    "    r2scan = compare.parent / \"r2scan.xyz\"\n",
    "    mol_r2scan = read_mol(r2scan, ref)\n",
    "    mol_r2scan = Chem.RemoveAllHs(mol_r2scan, sanitize=False)\n",
    "    pbf_r2scan = PBF(mol_r2scan)\n",
    "    pbf_r2scan_by_subset[subset] = pbf_r2scan_by_subset.get(subset, [])\n",
    "    pbf_r2scan_by_subset[subset].append(pbf_r2scan)"
   ]
  },
  {
   "cell_type": "code",
   "execution_count": null,
   "metadata": {},
   "outputs": [],
   "source": [
    "for subset in pbf_r2scan_by_subset:\n",
    "    plt.figure(figsize=(5, 4))\n",
    "    plt.hist(pbf_r2scan_by_subset[subset], bins=np.arange(min(pbf_r2scan_by_subset[subset]), 1.75, 0.1))\n",
    "    plt.title(subset.name)\n",
    "    if subset.name == \"perCl\":\n",
    "        plt.yticks([0, 5, 10, 15, 20])\n",
    "    plt.savefig(f\"pbf_r2scan_{subset.name}.png\")"
   ]
  }
 ],
 "metadata": {
  "kernelspec": {
   "display_name": "Python 3 (ipykernel)",
   "language": "python",
   "name": "python3"
  },
  "language_info": {
   "codemirror_mode": {
    "name": "ipython",
    "version": 3
   },
   "file_extension": ".py",
   "mimetype": "text/x-python",
   "name": "python",
   "nbconvert_exporter": "python",
   "pygments_lexer": "ipython3",
   "version": "3.12.3"
  }
 },
 "nbformat": 4,
 "nbformat_minor": 4
}
