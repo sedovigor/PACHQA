{
 "cells": [
  {
   "cell_type": "code",
   "execution_count": null,
   "id": "867d4f75-097e-49cc-86be-7fc48997cb9d",
   "metadata": {},
   "outputs": [],
   "source": [
    "import os\n",
    "import shutil\n",
    "from pathlib import Path\n",
    "\n",
    "import pandas as pd\n",
    "from rdkit import Chem\n",
    "\n",
    "from validation_utils import (\n",
    "    get_inchikey_from_smiles,\n",
    "    get_pachqa_structures,\n",
    "    get_rmsd_between_two_molecules,\n",
    ")"
   ]
  },
  {
   "cell_type": "code",
   "execution_count": null,
   "id": "7b1945cc-885c-4ead-b975-1b959210189b",
   "metadata": {},
   "outputs": [],
   "source": [
    "# path to https://gitlab.com/porannegroup/compas\n",
    "COMPAS_SOURCE_FOLDER = Path(\"compas\").absolute()\n",
    "\n",
    "# path to folder with props.csv\n",
    "PACHQA_SOURCE_FOLDER = Path(\"../property_parsing/\").absolute()\n",
    "\n",
    "# path to PACHQA structures\n",
    "PACHQA_STRUCTURES_SOURCE_FOLDER = Path(\"data\").absolute()\n",
    "\n",
    "# output files will be writen here\n",
    "TMP_DIR = Path(\"tmp_compas/\").absolute()"
   ]
  },
  {
   "cell_type": "code",
   "execution_count": null,
   "id": "09d4c04e-2e4f-4e36-bd13-959ede8ea1cd",
   "metadata": {},
   "outputs": [],
   "source": [
    "if not TMP_DIR.exists():\n",
    "    os.makedirs(TMP_DIR)"
   ]
  },
  {
   "cell_type": "markdown",
   "id": "382ac625-9659-4dc0-9b40-9181043d63d3",
   "metadata": {},
   "source": [
    "## Reading PACHQA data"
   ]
  },
  {
   "cell_type": "code",
   "execution_count": null,
   "id": "cb3b8ba2-c2c2-47a2-98ba-87aad6d736d7",
   "metadata": {},
   "outputs": [],
   "source": [
    "pachqa_data = pd.read_csv(Path(PACHQA_SOURCE_FOLDER, \"props.csv\"))\n",
    "pachqa_inchikeys = set(pachqa_data.key)"
   ]
  },
  {
   "cell_type": "markdown",
   "id": "21d5a44f-1a41-4802-b7e1-2603db0a3b2e",
   "metadata": {},
   "source": [
    "## Reading COMPAS data and merging molecules by InChIKey"
   ]
  },
  {
   "cell_type": "code",
   "execution_count": null,
   "id": "0650dc52-de61-4277-89cc-55bc48ce2a44",
   "metadata": {},
   "outputs": [],
   "source": [
    "PUBLIC_NAMES = {\n",
    "    \"compas-1x.csv\": \"COMPAS-1X\",\n",
    "    \"compas-2x.csv\": \"COMPAS-2X\",\n",
    "    \"compas-3x.csv\": \"COMPAS-3X\",\n",
    "}\n",
    "\n",
    "EXTRACTABLE_COLUMNS = [\n",
    "    \"Dipmom_Debye\",\n",
    "    \"Etot_eV\",\n",
    "    \"GAP_eV\",\n",
    "    \"HOMO_eV\",\n",
    "    \"LUMO_eV\",\n",
    "    \"ZPE_eV\",\n",
    "    \"dipolepatch\",\n",
    "    \"energy\",\n",
    "    \"gap\",\n",
    "    \"homo\",\n",
    "    \"lumo\",\n",
    "    \"zero_point_energy\",\n",
    "    \"smiles\",\n",
    "    \"molecule\",\n",
    "    \"name\",\n",
    "]"
   ]
  },
  {
   "cell_type": "code",
   "execution_count": null,
   "id": "5192be2b-8c37-4181-9fd9-e537126fe713",
   "metadata": {},
   "outputs": [],
   "source": [
    "for filepath in COMPAS_SOURCE_FOLDER.glob(\"**/*.csv\"):\n",
    "    if filepath.name not in PUBLIC_NAMES:\n",
    "        continue\n",
    "    print(f\"Starting to merge {filepath.name} with PACHQA results\")\n",
    "    compas_data = pd.read_csv(filepath)\n",
    "    for column in compas_data.columns:\n",
    "        if column not in EXTRACTABLE_COLUMNS:\n",
    "            compas_data.drop(columns=column, inplace=True)\n",
    "    compas_inchikeys = []\n",
    "    compas_data[\"key\"] = compas_data.smiles.map(get_inchikey_from_smiles)\n",
    "    matched_data = pd.merge(pachqa_data, compas_data, on=\"key\", suffixes=(\"_pachqa\", \"_compas\"))\n",
    "    print(f\"There are {matched_data.shape[0]} rows with matching InChIKey and {len(set(matched_data.key))} unique InChIKeys\")\n",
    "    matched_data.to_csv(Path(TMP_DIR, filepath.name + \"_matched.csv\"), index=False)"
   ]
  },
  {
   "cell_type": "markdown",
   "id": "b47fbe66-6e74-475a-b8bd-ebadfec12c4a",
   "metadata": {},
   "source": [
    "## Calculating heavy atom RMSD for the molecules from two datasets"
   ]
  },
  {
   "cell_type": "markdown",
   "id": "088ffbfb-94d1-4d96-85e6-58ea5e62bd97",
   "metadata": {},
   "source": [
    "### Preparing geometry data"
   ]
  },
  {
   "cell_type": "code",
   "execution_count": null,
   "id": "883a6829-5bc0-4bee-a5a8-9492ad446941",
   "metadata": {
    "scrolled": true
   },
   "outputs": [],
   "source": [
    "KEY_STRUCTURE_COLUMN_MAPPED = {\n",
    "    \"compas-1x.csv\": \"molecule\",\n",
    "    \"compas-2x.csv\": \"name\",\n",
    "    \"compas-3x.csv\": \"molecule\",\n",
    "}\n",
    "\n",
    "KEY_UNPACK_FORMAT_MAPPED = {\n",
    "    \"compas-1x.csv\": \"folder\",\n",
    "    \"compas-2x.csv\": \"sdf_file\",\n",
    "    \"compas-3x.csv\": \"folder\",\n",
    "}\n",
    "\n",
    "SUPPORTED_TYPES = (\"xyz\", \"sdf\", )\n",
    "\n",
    "for filepath in COMPAS_SOURCE_FOLDER.glob(\"*/*.csv\"):\n",
    "    if filepath.name not in PUBLIC_NAMES:\n",
    "        continue\n",
    "    matched_data = pd.read_csv(Path(TMP_DIR, filepath.name + \"_matched.csv\"))\n",
    "    name = KEY_STRUCTURE_COLUMN_MAPPED[filepath.name]\n",
    "    base_path = filepath.parent\n",
    "    structures_path = Path(base_path, filepath.name + \"_structures\")\n",
    "    assert name in matched_data.columns\n",
    "\n",
    "    extract_dest = Path(TMP_DIR, filepath.name + \"_structures\")\n",
    "    if any(matched_data[name]) and not extract_dest.exists():\n",
    "        extract_dest.mkdir()\n",
    "    \n",
    "    unpack_format = KEY_UNPACK_FORMAT_MAPPED[filepath.name]\n",
    "    if unpack_format == \"folder\":\n",
    "        for structure_name, structure_inchikey in matched_data[[name, \"key\"]].values:\n",
    "            for structure_type in SUPPORTED_TYPES:\n",
    "                structure_path = Path(structures_path, structure_name + \".\" + structure_type)\n",
    "                if structure_path.exists():\n",
    "                    shutil.copyfile(structure_path, Path(extract_dest, structure_inchikey + \".\" + structure_type))\n",
    "                    break\n",
    "            else:\n",
    "                exception = Exception(\"Cannot find structure.\")\n",
    "                exception.add_note(f\"Dataset path: {filepath}\")\n",
    "                exception.add_note(f\"Structure name: {structure_name}\")\n",
    "                raise exception\n",
    "    elif unpack_format == \"sdf_file\":\n",
    "        mol_name_inchikey_mapped = {}\n",
    "        for structure_name, structure_inchikey in matched_data[[name, \"key\"]].values:\n",
    "            mol_name_inchikey_mapped[structure_name] = structure_inchikey\n",
    "        reader = Chem.SDMolSupplier(structures_path)\n",
    "        for mol in reader:\n",
    "            mol_name = mol.GetProp(\"name\")\n",
    "            if mol_name not in mol_name_inchikey_mapped:\n",
    "                continue\n",
    "            structure_inchikey = mol_name_inchikey_mapped[mol_name]\n",
    "            with Chem.SDWriter(Path(extract_dest, structure_inchikey + \".sdf\")) as writer:\n",
    "                writer.write(mol)"
   ]
  },
  {
   "cell_type": "markdown",
   "id": "9110559b-39dd-4bb3-96ad-5f9b2615c39e",
   "metadata": {},
   "source": [
    "### Calculating RMSD"
   ]
  },
  {
   "cell_type": "code",
   "execution_count": null,
   "id": "01c1c2c3-e173-44a4-8190-4147935e702e",
   "metadata": {},
   "outputs": [],
   "source": [
    "INCHIKEY_STRUCTURES_MAPPED = get_pachqa_structures(PACHQA_STRUCTURES_SOURCE_FOLDER)\n",
    "SUPPORTED_TYPES = (\"xyz\", \"sdf\", )\n",
    "\n",
    "for filepath in TMP_DIR.glob(\"*_matched.csv\"):\n",
    "    matched_data = pd.read_csv(filepath)\n",
    "    if filepath.name.count(\"_matched.csv\") > 1:\n",
    "        raise Exception(\"Something wrong. There is more than one `_matched.csv`.\")\n",
    "    compas_structures_path = Path(filepath.parent, filepath.name.replace(\"_matched.csv\", \"\") + \"_structures\")\n",
    "    dump_pairs_path = Path(filepath.parent, filepath.name.replace(\"_matched.csv\", \"\") + \"_pairs\")\n",
    "\n",
    "    if not dump_pairs_path.exists():\n",
    "        dump_pairs_path.mkdir()\n",
    "\n",
    "    rmsd_xtb2 = []\n",
    "\n",
    "    for inchikey in matched_data.key:\n",
    "        pachqa_structures_path = INCHIKEY_STRUCTURES_MAPPED[inchikey]\n",
    "        for compas_structure_type in SUPPORTED_TYPES:\n",
    "            compas_structure_path = Path(compas_structures_path, inchikey + \".\" + compas_structure_type)\n",
    "            if compas_structure_path.exists():\n",
    "                break\n",
    "        else:\n",
    "            raise Exception(f\"There are no structures for InChIKey {inchikey} in {filepath.name} data\")\n",
    "\n",
    "        pachqa_mol_path_sdf_ref = Path(pachqa_structures_path, \"pubchem_conf.sdf\")\n",
    "        \n",
    "        pachqa_mol_path_xyz_xtb2 = Path(pachqa_structures_path, \"xtb2.xtbopt.xyz\")\n",
    "        rmsd_xtb2.append(\n",
    "            get_rmsd_between_two_molecules(\n",
    "                file1=pachqa_mol_path_xyz_xtb2,\n",
    "                file2=compas_structure_path,\n",
    "                ref=pachqa_mol_path_sdf_ref,\n",
    "                dump=True,\n",
    "                dump_name=Path(dump_pairs_path, \"xtb2_\" + inchikey)\n",
    "            )\n",
    "        )\n",
    "\n",
    "    matched_data[\"rmsd_xtb2\"] = rmsd_xtb2\n",
    "    matched_data.to_csv(Path(filepath.parent, filepath.name + \"_rmsd.csv\"), index=False)"
   ]
  }
 ],
 "metadata": {
  "kernelspec": {
   "display_name": ".venv",
   "language": "python",
   "name": "python3"
  },
  "language_info": {
   "codemirror_mode": {
    "name": "ipython",
    "version": 3
   },
   "file_extension": ".py",
   "mimetype": "text/x-python",
   "name": "python",
   "nbconvert_exporter": "python",
   "pygments_lexer": "ipython3",
   "version": "3.12.3"
  }
 },
 "nbformat": 4,
 "nbformat_minor": 5
}
